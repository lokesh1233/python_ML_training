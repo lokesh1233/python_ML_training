{
 "cells": [
  {
   "cell_type": "markdown",
   "id": "288d4fa6",
   "metadata": {},
   "source": [
    "## If Statement\n",
    "it tests for condition. and then responds to the condition, if test is true it carries to the next step\n"
   ]
  },
  {
   "cell_type": "code",
   "execution_count": 2,
   "id": "ead812bd",
   "metadata": {},
   "outputs": [
    {
     "name": "stdout",
     "output_type": "stream",
     "text": [
      "not matching\n",
      "not matching\n",
      "green\n"
     ]
    }
   ],
   "source": [
    "colors = ['red', 'blue', 'green']\n",
    "matching_color = \"green\"\n",
    "\n",
    "for color in colors:\n",
    "    if color == matching_color:\n",
    "        print(color)\n",
    "    else:\n",
    "        print('not matching')"
   ]
  },
  {
   "cell_type": "markdown",
   "id": "08553afe",
   "metadata": {},
   "source": [
    "### Equality"
   ]
  },
  {
   "cell_type": "code",
   "execution_count": 3,
   "id": "30375df8",
   "metadata": {},
   "outputs": [
    {
     "data": {
      "text/plain": [
       "True"
      ]
     },
     "execution_count": 3,
     "metadata": {},
     "output_type": "execute_result"
    }
   ],
   "source": [
    "5 == 5"
   ]
  },
  {
   "cell_type": "code",
   "execution_count": 4,
   "id": "133acf62",
   "metadata": {},
   "outputs": [
    {
     "data": {
      "text/plain": [
       "False"
      ]
     },
     "execution_count": 4,
     "metadata": {},
     "output_type": "execute_result"
    }
   ],
   "source": [
    "\"hello\" == \"world\""
   ]
  },
  {
   "cell_type": "code",
   "execution_count": 5,
   "id": "ecc26616",
   "metadata": {},
   "outputs": [
    {
     "data": {
      "text/plain": [
       "True"
      ]
     },
     "execution_count": 5,
     "metadata": {},
     "output_type": "execute_result"
    }
   ],
   "source": [
    "\"HELLO\".lower() == \"hello\".lower()"
   ]
  },
  {
   "cell_type": "markdown",
   "id": "b5ef3344",
   "metadata": {},
   "source": [
    "### Inequality"
   ]
  },
  {
   "cell_type": "code",
   "execution_count": 6,
   "id": "bc3c59f1",
   "metadata": {},
   "outputs": [
    {
     "data": {
      "text/plain": [
       "False"
      ]
     },
     "execution_count": 6,
     "metadata": {},
     "output_type": "execute_result"
    }
   ],
   "source": [
    "5 != 5"
   ]
  },
  {
   "cell_type": "code",
   "execution_count": 7,
   "id": "5d2735cb",
   "metadata": {},
   "outputs": [
    {
     "data": {
      "text/plain": [
       "True"
      ]
     },
     "execution_count": 7,
     "metadata": {},
     "output_type": "execute_result"
    }
   ],
   "source": [
    "\"hello\" != \"world\""
   ]
  },
  {
   "cell_type": "code",
   "execution_count": 8,
   "id": "f6a680aa",
   "metadata": {},
   "outputs": [
    {
     "data": {
      "text/plain": [
       "False"
      ]
     },
     "execution_count": 8,
     "metadata": {},
     "output_type": "execute_result"
    }
   ],
   "source": [
    "5 <= 3"
   ]
  },
  {
   "cell_type": "markdown",
   "id": "d3576704",
   "metadata": {},
   "source": [
    "## if-elif-else"
   ]
  },
  {
   "cell_type": "code",
   "execution_count": 9,
   "id": "fc6a7017",
   "metadata": {},
   "outputs": [
    {
     "name": "stdout",
     "output_type": "stream",
     "text": [
      "colors are less than 6\n"
     ]
    }
   ],
   "source": [
    "colors = ['red', 'green', 'blue', 'orange', 'yellow']\n",
    "\n",
    "if len(colors) >= 6:\n",
    "    print(\"colors are more than 6\")\n",
    "elif len(colors) <=6:\n",
    "    print(\"colors are less than 6\")\n",
    "else:\n",
    "    print(\"colors are None\")"
   ]
  },
  {
   "cell_type": "code",
   "execution_count": null,
   "id": "e6121109",
   "metadata": {},
   "outputs": [],
   "source": [
    "# Exercise 6\n",
    "\n",
    "# practise if-elif-else \n",
    "names = ['ram', 'sathya', 'buddy']\n",
    "\n",
    "\n"
   ]
  },
  {
   "cell_type": "markdown",
   "id": "f17abae0",
   "metadata": {},
   "source": [
    "# Loops"
   ]
  },
  {
   "cell_type": "code",
   "execution_count": 10,
   "id": "287807b6",
   "metadata": {},
   "outputs": [],
   "source": [
    "# for  -- it returns elemets inside list or tupple\n",
    "# while  -- it accepts only condition, it executes until the condition is true\n"
   ]
  },
  {
   "cell_type": "code",
   "execution_count": 14,
   "id": "597e6e37",
   "metadata": {},
   "outputs": [
    {
     "name": "stdout",
     "output_type": "stream",
     "text": [
      "True 0\n",
      "True 1\n",
      "True 2\n",
      "True 3\n",
      "True 4\n",
      "True 5\n",
      "True 6\n",
      "True 7\n",
      "True 8\n",
      "True 9\n",
      "True 10\n",
      "True 11\n"
     ]
    }
   ],
   "source": [
    "active = True\n",
    "num = 0\n",
    "while active:\n",
    "    print(active, str(num))\n",
    "    if num > 10:\n",
    "        active = False\n",
    "    num += 1"
   ]
  },
  {
   "cell_type": "code",
   "execution_count": 15,
   "id": "9f9f430a",
   "metadata": {},
   "outputs": [
    {
     "name": "stdout",
     "output_type": "stream",
     "text": [
      "red\n",
      "green\n",
      "blue\n"
     ]
    }
   ],
   "source": [
    "\n",
    "# for\n",
    "\n",
    "colors = ['red', 'green', 'blue']\n",
    "\n",
    "for color in colors:\n",
    "    print(color)\n",
    "\n"
   ]
  },
  {
   "cell_type": "code",
   "execution_count": 19,
   "id": "572b91e8",
   "metadata": {},
   "outputs": [
    {
     "name": "stdout",
     "output_type": "stream",
     "text": [
      "0 red\n",
      "1 green\n",
      "2 blue\n"
     ]
    }
   ],
   "source": [
    "# loop with index\n",
    "for idx, elem in enumerate(colors):\n",
    "    print(idx, elem)"
   ]
  },
  {
   "cell_type": "code",
   "execution_count": 21,
   "id": "6b4f5825",
   "metadata": {},
   "outputs": [
    {
     "name": "stdout",
     "output_type": "stream",
     "text": [
      "0 color1\n"
     ]
    }
   ],
   "source": [
    "# exercise 7 loop for dictinry\n",
    "colors = {\"color1\":\"red\",\n",
    "         \"color1\":\"blue\",\n",
    "         \"color1\":\"green\"}\n",
    "\n",
    "# loop with index\n",
    "for idx, elem in enumerate(colors):\n",
    "    print(idx, elem)"
   ]
  },
  {
   "cell_type": "code",
   "execution_count": null,
   "id": "41259931",
   "metadata": {},
   "outputs": [],
   "source": []
  }
 ],
 "metadata": {
  "kernelspec": {
   "display_name": "Python 3",
   "language": "python",
   "name": "python3"
  },
  "language_info": {
   "codemirror_mode": {
    "name": "ipython",
    "version": 3
   },
   "file_extension": ".py",
   "mimetype": "text/x-python",
   "name": "python",
   "nbconvert_exporter": "python",
   "pygments_lexer": "ipython3",
   "version": "3.8.8"
  }
 },
 "nbformat": 4,
 "nbformat_minor": 5
}
