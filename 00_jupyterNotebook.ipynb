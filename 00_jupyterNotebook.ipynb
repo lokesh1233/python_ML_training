{
 "cells": [
  {
   "cell_type": "markdown",
   "id": "0ff87269",
   "metadata": {},
   "source": [
    "# Writing and Running code\n",
    "\n",
    "* code\n",
    "* Markdown\n",
    "* raw\n",
    "* heading"
   ]
  },
  {
   "cell_type": "code",
   "execution_count": 1,
   "id": "814c59f7",
   "metadata": {},
   "outputs": [
    {
     "name": "stdout",
     "output_type": "stream",
     "text": [
      "hello\n"
     ]
    }
   ],
   "source": [
    "# code\n",
    "print(\"hello\")"
   ]
  },
  {
   "cell_type": "markdown",
   "id": "e019f127",
   "metadata": {},
   "source": [
    "# image loading\n"
   ]
  },
  {
   "cell_type": "code",
   "execution_count": null,
   "id": "a30a0b9e",
   "metadata": {},
   "outputs": [],
   "source": []
  },
  {
   "cell_type": "markdown",
   "id": "1e6617da",
   "metadata": {},
   "source": [
    "# link displaying\n",
    "\n",
    "[IPython's website](http://python.org)"
   ]
  },
  {
   "cell_type": "markdown",
   "id": "49636a58",
   "metadata": {},
   "source": [
    "## Tables"
   ]
  },
  {
   "cell_type": "markdown",
   "id": "d94e2f56",
   "metadata": {},
   "source": [
    "Time(s) | Audience Interest\n",
    "--------|------------------\n",
    "0       | High\n",
    "1       | Medium\n",
    "2       | Facebook"
   ]
  },
  {
   "cell_type": "markdown",
   "id": "888fe8c1",
   "metadata": {},
   "source": [
    "## video"
   ]
  },
  {
   "cell_type": "code",
   "execution_count": null,
   "id": "e21af60c",
   "metadata": {},
   "outputs": [],
   "source": []
  },
  {
   "cell_type": "code",
   "execution_count": 6,
   "id": "278e8770",
   "metadata": {},
   "outputs": [
    {
     "name": "stdout",
     "output_type": "stream",
     "text": [
      "help\n"
     ]
    }
   ],
   "source": [
    "# execute a cell\n",
    "# shift + Enter\n",
    "print(\"help\")"
   ]
  },
  {
   "cell_type": "markdown",
   "id": "24b781ad",
   "metadata": {},
   "source": [
    "### Installation with pip\n",
    "\n",
    "If you use pip, you can install it with:\n",
    "\n",
    "##### conda install -c conda-forge notebook   --> anaconda\n"
   ]
  },
  {
   "cell_type": "raw",
   "id": "177f3e5f",
   "metadata": {},
   "source": [
    "pip install notebook"
   ]
  },
  {
   "cell_type": "markdown",
   "id": "3d144384",
   "metadata": {},
   "source": [
    "\n",
    "\n",
    "Congratulations, you have installed Jupyter Notebook! To run the notebook, run the following command at the Terminal (Mac/Linux) or Command Prompt (Windows):\n"
   ]
  },
  {
   "cell_type": "raw",
   "id": "72043429",
   "metadata": {},
   "source": [
    "jupyter notebook"
   ]
  }
 ],
 "metadata": {
  "kernelspec": {
   "display_name": "Python 3",
   "language": "python",
   "name": "python3"
  },
  "language_info": {
   "codemirror_mode": {
    "name": "ipython",
    "version": 3
   },
   "file_extension": ".py",
   "mimetype": "text/x-python",
   "name": "python",
   "nbconvert_exporter": "python",
   "pygments_lexer": "ipython3",
   "version": "3.8.8"
  }
 },
 "nbformat": 4,
 "nbformat_minor": 5
}
